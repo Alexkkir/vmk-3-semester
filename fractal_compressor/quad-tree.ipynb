{
 "cells": [
  {
   "cell_type": "code",
   "execution_count": 20,
   "metadata": {
    "collapsed": true
   },
   "outputs": [],
   "source": [
    "from collections import namedtuple\n",
    "from random import randint\n",
    "import numpy\n",
    "import numpy as np\n",
    "\n",
    "BlockTransform = namedtuple('BlockTransform', ['x', 'y', 'mse'])"
   ]
  },
  {
   "cell_type": "code",
   "execution_count": 138,
   "outputs": [],
   "source": [
    "class Node:\n",
    "    def __init__(self, t=None, x=0, y=0, size=4):\n",
    "        self.childs = [None] * 4\n",
    "        self.t = t\n",
    "        self.x = x\n",
    "        self.y = y\n",
    "        self.size = size\n",
    "        self.split = False\n",
    "\n",
    "    def divide(self):\n",
    "        self.split = True\n",
    "        vals = {0: {'x': self.x, 'y': self.y, 'size': self.size // 2},\n",
    "                1: {'x': self.x + self.size // 2, 'y': self.y, 'size': self.size // 2},\n",
    "                2: {'x': self.x, 'y': self.y + self.size // 2, 'size': self.size // 2},\n",
    "                3: {'x': self.x + self.size // 2, 'y': self.y + self.size // 2, 'size': self.size // 2},\n",
    "                }\n",
    "        for i in range(4):\n",
    "            self.childs[i] = Node(**vals[i])\n",
    "\n",
    "    def flatten(self, node = None):\n",
    "        res = []\n",
    "        node = node or self\n",
    "        if node.split:\n",
    "            res.append('split')\n",
    "            for i in range(4):\n",
    "                res += self.flatten(node.childs[i])\n",
    "        else:\n",
    "            res.append(node.t)\n",
    "        return res\n",
    "    def print(self, b = 0):\n",
    "        node = self\n",
    "        print('\\t' * b + f\"[{node.x} {node.y} {node.size}] = {b}\")\n",
    "        for node in self.childs:\n",
    "            if node:\n",
    "                node.print(b + 1)\n",
    "\n",
    "class MaxHeap:\n",
    "    def __init__(self, maxsize):\n",
    "        self.maxsize = maxsize\n",
    "        self.size = 0\n",
    "        self.Heap = [Node(t = BlockTransform(-1, -1, -1))] * (self.maxsize + 1)\n",
    "        self.Heap[0] = Node(t = BlockTransform(-1, -1, 1000000000))\n",
    "        self.FRONT = 1\n",
    "\n",
    "    def parent(self, pos):\n",
    "        return pos // 2\n",
    "\n",
    "    def leftChild(self, pos):\n",
    "        return 2 * pos\n",
    "\n",
    "    def rightChild(self, pos):\n",
    "        return (2 * pos) + 1\n",
    "\n",
    "    def isLeaf(self, pos):\n",
    "        if (self.size // 2) <= pos <= self.size:\n",
    "            return True\n",
    "        return False\n",
    "\n",
    "    def swap(self, fpos, spos):\n",
    "        self.Heap[fpos], self.Heap[spos] = (self.Heap[spos],\n",
    "                                            self.Heap[fpos])\n",
    "    def val(self, elem: Node):\n",
    "        return elem.t.mse\n",
    "\n",
    "    def maxHeapify(self, pos):\n",
    "        if not self.isLeaf(pos):\n",
    "            if (self.val(self.Heap[pos]) < self.val(self.Heap[self.leftChild(pos)]) or\n",
    "                    self.val(self.Heap[pos]) < self.val(self.Heap[self.rightChild(pos)])):\n",
    "                if (self.val(self.Heap[self.leftChild(pos)]) >\n",
    "                        self.val(self.Heap[self.rightChild(pos)])):\n",
    "                    self.swap(pos, self.leftChild(pos))\n",
    "                    self.maxHeapify(self.leftChild(pos))\n",
    "                else:\n",
    "                    self.swap(pos, self.rightChild(pos))\n",
    "                    self.maxHeapify(self.rightChild(pos))\n",
    "\n",
    "    def insert(self, element: Node):\n",
    "        if self.size >= self.maxsize:\n",
    "            return\n",
    "        self.size += 1\n",
    "        self.Heap[self.size] = element\n",
    "        current = self.size\n",
    "        while (self.val(self.Heap[current]) >\n",
    "               self.val(self.Heap[self.parent(current)])):\n",
    "            self.swap(current, self.parent(current))\n",
    "            current = self.parent(current)\n",
    "\n",
    "    def print(self):\n",
    "        for i in range(1, (self.size // 2) + 1):\n",
    "            print(\" PARENT : \" + str(self.Heap[i].t) +\n",
    "                  \" LEFT CHILD : \" + str(self.Heap[2 * i].t) +\n",
    "                  \" RIGHT CHILD : \" + str(self.Heap[2 * i + 1].t))\n",
    "\n",
    "    def pop(self):\n",
    "        popped = self.Heap[self.FRONT]\n",
    "        self.Heap[self.FRONT] = self.Heap[self.size]\n",
    "        self.size -= 1\n",
    "        self.maxHeapify(self.FRONT)\n",
    "        return popped\n",
    "\n",
    "\n",
    "def find_best_transform(*args):\n",
    "    return BlockTransform(1, 2, randint(1, 10))\n",
    "\n",
    "\n",
    "def compress(iters=100):\n",
    "    image = np.triu(np.ones((4, 4)))\n",
    "    rim = np.triu(np.ones((2, 2)))\n",
    "\n",
    "    tree = Node()\n",
    "    heap = MaxHeap(100)\n",
    "    heap.insert(tree)\n",
    "    for i in range(6):\n",
    "        node = heap.pop()\n",
    "        node.divide()\n",
    "        for child in node.childs:\n",
    "            child.data = find_best_transform(child.x, child.y, child.size)\n",
    "            heap.insert(child)\n",
    "    trans = tree.flatten()\n",
    "    return trans"
   ],
   "metadata": {
    "collapsed": false,
    "pycharm": {
     "name": "#%%\n"
    }
   }
  },
  {
   "cell_type": "code",
   "execution_count": 139,
   "outputs": [
    {
     "name": "stdout",
     "output_type": "stream",
     "text": [
      " PARENT : BlockTransform(x=0, y=0, mse=20) LEFT CHILD : BlockTransform(x=0, y=0, mse=10) RIGHT CHILD : BlockTransform(x=-1, y=-1, mse=-1)\n"
     ]
    }
   ],
   "source": [
    "a = Node(t = BlockTransform(0, 0, 10))\n",
    "b = MaxHeap(10)\n",
    "b.insert(a)\n",
    "a = Node(t = BlockTransform(0, 0, 20))\n",
    "b.insert(a)\n",
    "b.print()"
   ],
   "metadata": {
    "collapsed": false,
    "pycharm": {
     "name": "#%%\n"
    }
   }
  }
 ],
 "metadata": {
  "kernelspec": {
   "display_name": "Python 3",
   "language": "python",
   "name": "python3"
  },
  "language_info": {
   "codemirror_mode": {
    "name": "ipython",
    "version": 2
   },
   "file_extension": ".py",
   "mimetype": "text/x-python",
   "name": "python",
   "nbconvert_exporter": "python",
   "pygments_lexer": "ipython2",
   "version": "2.7.6"
  }
 },
 "nbformat": 4,
 "nbformat_minor": 0
}