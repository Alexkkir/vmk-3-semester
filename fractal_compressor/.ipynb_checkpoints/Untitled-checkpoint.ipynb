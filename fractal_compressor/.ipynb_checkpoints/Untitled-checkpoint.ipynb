{
 "cells": [
  {
   "cell_type": "markdown",
   "id": "834b6eec",
   "metadata": {},
   "source": [
    "# TEST notebook\n",
    "**bold text**\n",
    "* list\n",
    "* list 2"
   ]
  },
  {
   "cell_type": "markdown",
   "id": "d47e10d3",
   "metadata": {},
   "source": [
    "sdsd\n",
    "sds\n",
    "dsd\n",
    "# fff\n",
    "## fff\n",
    "### fff"
   ]
  }
 ],
 "metadata": {
  "kernelspec": {
   "display_name": "Python 3 (ipykernel)",
   "language": "python",
   "name": "python3"
  },
  "language_info": {
   "codemirror_mode": {
    "name": "ipython",
    "version": 3
   },
   "file_extension": ".py",
   "mimetype": "text/x-python",
   "name": "python",
   "nbconvert_exporter": "python",
   "pygments_lexer": "ipython3",
   "version": "3.9.2"
  }
 },
 "nbformat": 4,
 "nbformat_minor": 5
}
