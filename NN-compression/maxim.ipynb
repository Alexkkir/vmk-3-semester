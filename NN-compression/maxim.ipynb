{
 "cells": [
  {
   "cell_type": "code",
   "execution_count": 2,
   "id": "52e3c767-bb18-4e9b-8836-c0846116e342",
   "metadata": {},
   "outputs": [
    {
     "ename": "ModuleNotFoundError",
     "evalue": "No module named 'tensorflow'",
     "output_type": "error",
     "traceback": [
      "\u001b[1;31m---------------------------------------------------------------------------\u001b[0m",
      "\u001b[1;31mModuleNotFoundError\u001b[0m                       Traceback (most recent call last)",
      "\u001b[1;32m<ipython-input-2-3e5454c0c338>\u001b[0m in \u001b[0;36m<module>\u001b[1;34m\u001b[0m\n\u001b[1;32m----> 1\u001b[1;33m \u001b[1;32mimport\u001b[0m \u001b[0mtensorflow\u001b[0m \u001b[1;32mas\u001b[0m \u001b[0mtf\u001b[0m\u001b[1;33m\u001b[0m\u001b[1;33m\u001b[0m\u001b[0m\n\u001b[0m\u001b[0;32m      2\u001b[0m \u001b[1;32mfrom\u001b[0m \u001b[0mtensorflow\u001b[0m \u001b[1;32mimport\u001b[0m \u001b[0mkeras\u001b[0m\u001b[1;33m\u001b[0m\u001b[1;33m\u001b[0m\u001b[0m\n\u001b[0;32m      3\u001b[0m \u001b[1;32mimport\u001b[0m \u001b[0mcv2\u001b[0m\u001b[1;33m\u001b[0m\u001b[1;33m\u001b[0m\u001b[0m\n\u001b[0;32m      4\u001b[0m \u001b[1;32mimport\u001b[0m \u001b[0mnumpy\u001b[0m \u001b[1;32mas\u001b[0m \u001b[0mnp\u001b[0m\u001b[1;33m\u001b[0m\u001b[1;33m\u001b[0m\u001b[0m\n\u001b[0;32m      5\u001b[0m \u001b[1;32mfrom\u001b[0m \u001b[0mskimage\u001b[0m\u001b[1;33m.\u001b[0m\u001b[0mmetrics\u001b[0m \u001b[1;32mimport\u001b[0m \u001b[0mmean_squared_error\u001b[0m \u001b[1;32mas\u001b[0m \u001b[0mmse\u001b[0m\u001b[1;33m,\u001b[0m \u001b[0mpeak_signal_noise_ratio\u001b[0m \u001b[1;32mas\u001b[0m \u001b[0mpsnr\u001b[0m\u001b[1;33m\u001b[0m\u001b[1;33m\u001b[0m\u001b[0m\n",
      "\u001b[1;31mModuleNotFoundError\u001b[0m: No module named 'tensorflow'"
     ]
    }
   ],
   "source": [
    "import tensorflow as tf  \n",
    "from tensorflow import keras\n",
    "import cv2\n",
    "import numpy as np\n",
    "from skimage.metrics import mean_squared_error as mse, peak_signal_noise_ratio as psnr\n",
    "(x_train, y_train),(x_test, y_test) = tf.keras.datasets.mnist.load_data()  # loads the popular \"mnist\" training dataset\n",
    "\n",
    "x_train = x_train/255.0  # scales the data. pixel values range from 0 to 255, so this makes it range 0 to 1\n",
    "x_test = x_test/255.0"
   ]
  },
  {
   "cell_type": "code",
   "execution_count": 2,
   "id": "27eed636-8667-4abd-a3db-63ded0a06f16",
   "metadata": {},
   "outputs": [
    {
     "data": {
      "text/plain": [
       "<matplotlib.image.AxesImage at 0x7f2cf683e910>"
      ]
     },
     "execution_count": 2,
     "metadata": {},
     "output_type": "execute_result"
    },
    {
     "data": {
      "image/png": "[encoded data removed]",
      "text/plain": [
       "<Figure size 432x288 with 1 Axes>"
      ]
     },
     "metadata": {
      "needs_background": "light"
     },
     "output_type": "display_data"
    }
   ],
   "source": [
    "import matplotlib.pyplot as plt\n",
    "\n",
    "plt.imshow(x_train[0], cmap=\"gray\")"
   ]
  },
  {
   "cell_type": "code",
   "execution_count": 155,
   "id": "c8006c2b-deca-4cc8-b922-af595cf1ef48",
   "metadata": {},
   "outputs": [],
   "source": [
    "encoder_input = keras.Input(shape=(28, 28, 1), name='img')\n",
    "x = keras.layers.Flatten()(encoder_input)\n",
    "x2=keras.layers.Dense(500, activation=\"relu\")(x)\n",
    "x3=keras.layers.Dense(100, activation=\"relu\")(x)\n",
    "encoder_output = keras.layers.Dense(30, activation=\"relu\")(x3)\n",
    "encoder = keras.Model(encoder_input, encoder_output, name='encoder')\n",
    "decoder_input = keras.layers.Dense(10, activation=\"relu\")(encoder_output)\n",
    "x21 = keras.layers.Dense(30, activation=\"relu\")(decoder_input)\n",
    "x22 = keras.layers.Dense(100, activation=\"relu\")(x21)\n",
    "x23 = keras.layers.Dense(500, activation=\"relu\")(x22)\n",
    "x = keras.layers.Dense(784, activation=\"relu\")(x23)\n",
    "decoder_output = keras.layers.Reshape((28, 28, 1))(x)\n",
    "opt = tf.keras.optimizers.Adam(learning_rate=0.001, decay=1e-6)"
   ]
  },
  {
   "cell_type": "code",
   "execution_count": 156,
   "id": "4f3543f6-84b3-4ad1-82a2-5ef3d0281ab2",
   "metadata": {},
   "outputs": [
    {
     "name": "stdout",
     "output_type": "stream",
     "text": [
      "Model: \"autoencoder\"\n",
      "_________________________________________________________________\n",
      " Layer (type)                Output Shape              Param #   \n",
      "=================================================================\n",
      " img (InputLayer)            [(None, 28, 28, 1)]       0         \n",
      "                                                                 \n",
      " flatten_22 (Flatten)        (None, 784)               0         \n",
      "                                                                 \n",
      " dense_127 (Dense)           (None, 100)               78500     \n",
      "                                                                 \n",
      " dense_128 (Dense)           (None, 30)                3030      \n",
      "                                                                 \n",
      " dense_129 (Dense)           (None, 10)                310       \n",
      "                                                                 \n",
      " dense_130 (Dense)           (None, 30)                330       \n",
      "                                                                 \n",
      " dense_131 (Dense)           (None, 100)               3100      \n",
      "                                                                 \n",
      " dense_132 (Dense)           (None, 500)               50500     \n",
      "                                                                 \n",
      " dense_133 (Dense)           (None, 784)               392784    \n",
      "                                                                 \n",
      " reshape_22 (Reshape)        (None, 28, 28, 1)         0         \n",
      "                                                                 \n",
      "=================================================================\n",
      "Total params: 528,554\n",
      "Trainable params: 528,554\n",
      "Non-trainable params: 0\n",
      "_________________________________________________________________\n"
     ]
    }
   ],
   "source": [
    "autoencoder = keras.Model(encoder_input, decoder_output, name='autoencoder')\n",
    "autoencoder.summary()"
   ]
  },
  {
   "cell_type": "code",
   "execution_count": 157,
   "id": "e0131b2c-b5bc-4a62-aaa6-5108be911372",
   "metadata": {},
   "outputs": [
    {
     "name": "stdout",
     "output_type": "stream",
     "text": [
      "1688/1688 [==============================] - 10s 5ms/step - loss: 0.0315 - val_loss: 0.0236\n",
      "INFO:tensorflow:Assets written to: models/AE-1.model/assets\n",
      "1688/1688 [==============================] - 9s 5ms/step - loss: 0.0222 - val_loss: 0.0209\n",
      "INFO:tensorflow:Assets written to: models/AE-2.model/assets\n",
      "1688/1688 [==============================] - 8s 5ms/step - loss: 0.0203 - val_loss: 0.0195\n",
      "INFO:tensorflow:Assets written to: models/AE-3.model/assets\n",
      "1688/1688 [==============================] - 10s 6ms/step - loss: 0.0193 - val_loss: 0.0189\n",
      "INFO:tensorflow:Assets written to: models/AE-4.model/assets\n",
      "1688/1688 [==============================] - 9s 6ms/step - loss: 0.0186 - val_loss: 0.0186\n",
      "INFO:tensorflow:Assets written to: models/AE-5.model/assets\n",
      "1688/1688 [==============================] - 10s 6ms/step - loss: 0.0182 - val_loss: 0.0183\n",
      "INFO:tensorflow:Assets written to: models/AE-6.model/assets\n",
      "1688/1688 [==============================] - 9s 5ms/step - loss: 0.0178 - val_loss: 0.0180\n",
      "INFO:tensorflow:Assets written to: models/AE-7.model/assets\n",
      "1688/1688 [==============================] - 9s 5ms/step - loss: 0.0175 - val_loss: 0.0178\n",
      "INFO:tensorflow:Assets written to: models/AE-8.model/assets\n",
      "1688/1688 [==============================] - 9s 5ms/step - loss: 0.0173 - val_loss: 0.0176\n",
      "INFO:tensorflow:Assets written to: models/AE-9.model/assets\n",
      "1688/1688 [==============================] - 8s 5ms/step - loss: 0.0170 - val_loss: 0.0173\n",
      "INFO:tensorflow:Assets written to: models/AE-10.model/assets\n"
     ]
    }
   ],
   "source": [
    "autoencoder.compile(opt, loss='mse')\n",
    "epochs=10\n",
    "for epoch in range(epochs):\n",
    "\n",
    "    history = autoencoder.fit(\n",
    "      x_train,\n",
    "      x_train,\n",
    "      epochs=1, \n",
    "      batch_size=32, validation_split=0.10\n",
    "        )   \n",
    "    autoencoder.save(f\"models/AE-{epoch+1}.model\")"
   ]
  },
  {
   "cell_type": "code",
   "execution_count": 152,
   "id": "3a6da9a9-f80e-4e8e-9b46-41da22898baf",
   "metadata": {},
   "outputs": [],
   "source": [
    "example = encoder.predict([ x_test[2].reshape(-1, 28, 28, 1) ])"
   ]
  },
  {
   "cell_type": "code",
   "execution_count": 147,
   "id": "c03199c0-fde2-41de-8722-84e62c601023",
   "metadata": {},
   "outputs": [
    {
     "data": {
      "text/plain": [
       "(1, 10)"
      ]
     },
     "execution_count": 147,
     "metadata": {},
     "output_type": "execute_result"
    }
   ],
   "source": [
    "example.shape\n"
   ]
  },
  {
   "cell_type": "code",
   "execution_count": 160,
   "id": "defe90cf-37a9-4105-abeb-f8c8c67d749e",
   "metadata": {},
   "outputs": [
    {
     "name": "stdout",
     "output_type": "stream",
     "text": [
      "9.631402983361836\n"
     ]
    },
    {
     "data": {
      "text/plain": [
       "<matplotlib.image.AxesImage at 0x7f2cb0691370>"
      ]
     },
     "execution_count": 160,
     "metadata": {},
     "output_type": "execute_result"
    },
    {
     "data": {
      "image/png": "[encoded data removed]",
      "text/plain": [
       "<Figure size 432x288 with 1 Axes>"
      ]
     },
     "metadata": {
      "needs_background": "light"
     },
     "output_type": "display_data"
    }
   ],
   "source": [
    "ae_out = autoencoder.predict([ x_test[6].reshape(-1, 28, 28, 1) ])\n",
    "img = ae_out[0]  # predict is done on a vector, and returns a vector, even if its just 1 element, so we still need to grab the 0th\n",
    "print(psnr(np.rint(ae_out[0]*255).astype('uint8'),np.rint(255*x_test[7].reshape( 28, 28, 1)).astype('uint8')))\n",
    "plt.imshow(np.rint(ae_out[0]*255).astype('uint8'), cmap=\"gray\")"
   ]
  },
  {
   "cell_type": "code",
   "execution_count": 161,
   "id": "86ab7080-33ef-4bf6-b5b8-832356a306ff",
   "metadata": {},
   "outputs": [
    {
     "data": {
      "text/plain": [
       "<matplotlib.image.AxesImage at 0x7f2cd03b2d60>"
      ]
     },
     "execution_count": 161,
     "metadata": {},
     "output_type": "execute_result"
    },
    {
     "data": {
      "image/png": "[encoded data removed]",
      "text/plain": [
       "<Figure size 432x288 with 1 Axes>"
      ]
     },
     "metadata": {
      "needs_background": "light"
     },
     "output_type": "display_data"
    }
   ],
   "source": [
    "plt.imshow(x_test[6], cmap=\"gray\")"
   ]
  },
  {
   "cell_type": "code",
   "execution_count": null,
   "id": "e188d3b0-a085-4a5d-8fed-3b42980436eb",
   "metadata": {},
   "outputs": [],
   "source": []
  }
 ],
 "metadata": {
  "kernelspec": {
   "display_name": "Python 3",
   "language": "python",
   "name": "python3"
  },
  "language_info": {
   "codemirror_mode": {
    "name": "ipython",
    "version": 3
   },
   "file_extension": ".py",
   "mimetype": "text/x-python",
   "name": "python",
   "nbconvert_exporter": "python",
   "pygments_lexer": "ipython3",
   "version": "3.9.2"
  }
 },
 "nbformat": 4,
 "nbformat_minor": 5
}
